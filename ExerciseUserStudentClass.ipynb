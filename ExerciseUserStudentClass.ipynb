{
  "nbformat": 4,
  "nbformat_minor": 0,
  "metadata": {
    "colab": {
      "provenance": [],
      "authorship_tag": "ABX9TyNXtlXUzPvdabmei0iE0VVL",
      "include_colab_link": true
    },
    "kernelspec": {
      "name": "python3",
      "display_name": "Python 3"
    },
    "language_info": {
      "name": "python"
    }
  },
  "cells": [
    {
      "cell_type": "markdown",
      "metadata": {
        "id": "view-in-github",
        "colab_type": "text"
      },
      "source": [
        "<a href=\"https://colab.research.google.com/github/johanwitt/ExerciseWeek9/blob/Branch1/ExerciseUserStudentClass.ipynb\" target=\"_parent\"><img src=\"https://colab.research.google.com/assets/colab-badge.svg\" alt=\"Open In Colab\"/></a>"
      ]
    },
    {
      "cell_type": "code",
      "source": [
        "!pip install import_ipynb\n",
        "import import_ipynb"
      ],
      "metadata": {
        "colab": {
          "base_uri": "https://localhost:8080/"
        },
        "id": "iayYWD28AfEz",
        "outputId": "e6113e51-c340-4aea-c4c5-1f17c90d358b"
      },
      "execution_count": null,
      "outputs": [
        {
          "output_type": "stream",
          "name": "stdout",
          "text": [
            "Looking in indexes: https://pypi.org/simple, https://us-python.pkg.dev/colab-wheels/public/simple/\n",
            "Collecting import_ipynb\n",
            "  Downloading import_ipynb-0.1.4-py3-none-any.whl (4.1 kB)\n",
            "Requirement already satisfied: nbformat in /usr/local/lib/python3.8/dist-packages (from import_ipynb) (5.7.3)\n",
            "Requirement already satisfied: IPython in /usr/local/lib/python3.8/dist-packages (from import_ipynb) (7.9.0)\n",
            "Requirement already satisfied: traitlets>=4.2 in /usr/local/lib/python3.8/dist-packages (from IPython->import_ipynb) (5.7.1)\n",
            "Requirement already satisfied: prompt-toolkit<2.1.0,>=2.0.0 in /usr/local/lib/python3.8/dist-packages (from IPython->import_ipynb) (2.0.10)\n",
            "Requirement already satisfied: pygments in /usr/local/lib/python3.8/dist-packages (from IPython->import_ipynb) (2.6.1)\n",
            "Requirement already satisfied: backcall in /usr/local/lib/python3.8/dist-packages (from IPython->import_ipynb) (0.2.0)\n",
            "Requirement already satisfied: pickleshare in /usr/local/lib/python3.8/dist-packages (from IPython->import_ipynb) (0.7.5)\n",
            "Collecting jedi>=0.10\n",
            "  Downloading jedi-0.18.2-py2.py3-none-any.whl (1.6 MB)\n",
            "\u001b[2K     \u001b[90m━━━━━━━━━━━━━━━━━━━━━━━━━━━━━━━━━━━━━━━━\u001b[0m \u001b[32m1.6/1.6 MB\u001b[0m \u001b[31m42.4 MB/s\u001b[0m eta \u001b[36m0:00:00\u001b[0m\n",
            "\u001b[?25hRequirement already satisfied: decorator in /usr/local/lib/python3.8/dist-packages (from IPython->import_ipynb) (4.4.2)\n",
            "Requirement already satisfied: setuptools>=18.5 in /usr/local/lib/python3.8/dist-packages (from IPython->import_ipynb) (57.4.0)\n",
            "Requirement already satisfied: pexpect in /usr/local/lib/python3.8/dist-packages (from IPython->import_ipynb) (4.8.0)\n",
            "Requirement already satisfied: jupyter-core in /usr/local/lib/python3.8/dist-packages (from nbformat->import_ipynb) (5.2.0)\n",
            "Requirement already satisfied: jsonschema>=2.6 in /usr/local/lib/python3.8/dist-packages (from nbformat->import_ipynb) (4.3.3)\n",
            "Requirement already satisfied: fastjsonschema in /usr/local/lib/python3.8/dist-packages (from nbformat->import_ipynb) (2.16.2)\n",
            "Requirement already satisfied: parso<0.9.0,>=0.8.0 in /usr/local/lib/python3.8/dist-packages (from jedi>=0.10->IPython->import_ipynb) (0.8.3)\n",
            "Requirement already satisfied: importlib-resources>=1.4.0 in /usr/local/lib/python3.8/dist-packages (from jsonschema>=2.6->nbformat->import_ipynb) (5.12.0)\n",
            "Requirement already satisfied: pyrsistent!=0.17.0,!=0.17.1,!=0.17.2,>=0.14.0 in /usr/local/lib/python3.8/dist-packages (from jsonschema>=2.6->nbformat->import_ipynb) (0.19.3)\n",
            "Requirement already satisfied: attrs>=17.4.0 in /usr/local/lib/python3.8/dist-packages (from jsonschema>=2.6->nbformat->import_ipynb) (22.2.0)\n",
            "Requirement already satisfied: wcwidth in /usr/local/lib/python3.8/dist-packages (from prompt-toolkit<2.1.0,>=2.0.0->IPython->import_ipynb) (0.2.6)\n",
            "Requirement already satisfied: six>=1.9.0 in /usr/local/lib/python3.8/dist-packages (from prompt-toolkit<2.1.0,>=2.0.0->IPython->import_ipynb) (1.15.0)\n",
            "Requirement already satisfied: platformdirs>=2.5 in /usr/local/lib/python3.8/dist-packages (from jupyter-core->nbformat->import_ipynb) (3.0.0)\n",
            "Requirement already satisfied: ptyprocess>=0.5 in /usr/local/lib/python3.8/dist-packages (from pexpect->IPython->import_ipynb) (0.7.0)\n",
            "Requirement already satisfied: zipp>=3.1.0 in /usr/local/lib/python3.8/dist-packages (from importlib-resources>=1.4.0->jsonschema>=2.6->nbformat->import_ipynb) (3.14.0)\n",
            "Installing collected packages: jedi, import_ipynb\n",
            "Successfully installed import_ipynb-0.1.4 jedi-0.18.2\n"
          ]
        }
      ]
    },
    {
      "cell_type": "code",
      "source": [
        "'''\n",
        "Purpose: demonstrate classes and objects\n",
        "This program imports the student class (stored as a module)\n",
        "\n",
        "'''\n",
        "import Student as Stu\n",
        "\n",
        "# read in the data file\n",
        "readf = open('StudentObjectData.csv', 'r') # r means read\n",
        "students = []\n",
        "count = 1\n",
        "for line in readf:\n",
        "  # split the data up  \n",
        "  list = line.split(',')\n",
        "\n",
        "  # create object of Student class\n",
        "  rec = Stu.Student(list[0], int(list[1]), int(list[2]), int(list[3]), int(list[4]), int(list[5]))\n",
        "\n",
        "  # add the object to our students list\n",
        "  students.append(rec) # add a record\n",
        "\n",
        "readf.close # always close the file\n",
        "\n",
        "countStudents = 0 # used to keep track of how many students, so can calculate overall average\n",
        "totalAve = 0 # used to add up the averages\n",
        "# display all the student min,max,ave\n",
        "for rec in students:\n",
        "  # so rec now holds each student object, 1 at a time thru the loop\n",
        "    \n",
        "  # calc average - call the AverageResults method for Student class\n",
        "  #   for the current object held by rec. So name, result1, result2... is passed\n",
        "  tAve = rec.AverageResults()\n",
        "  print(\"Average for \", rec.name, \" is \", tAve )\n",
        "  totalAve += tAve\n",
        "  countStudents += 1\n",
        "  # calc minimum\n",
        "  tMin = rec.MinResults()\n",
        "  print(\"Minimum for \", rec.name, \" is \", tMin )\n",
        "  # calc average\n",
        "  tMax = rec.MaxResults()\n",
        "  print(\"Maximim for \", rec.name, \" is \", tMax )\n",
        "\n",
        "# end of loop\n",
        "print('*'*50, '\\n\\n')\n",
        "\n",
        "print(\"Average for all students is \", totalAve / countStudents )\n",
        "print('Finished.\\n\\n')\n"
      ],
      "metadata": {
        "colab": {
          "base_uri": "https://localhost:8080/"
        },
        "id": "Q8szCGjVAr_C",
        "outputId": "9864b57d-bb66-49ed-cde3-21bea01e5a40"
      },
      "execution_count": null,
      "outputs": [
        {
          "output_type": "stream",
          "name": "stdout",
          "text": [
            "Average for  94  is  90.4\n",
            "Minimum for  94  is  80\n",
            "Maximim for  94  is  97\n",
            "Average for  94  is  90.4\n",
            "Minimum for  94  is  80\n",
            "Maximim for  94  is  97\n",
            "Average for  94  is  90.4\n",
            "Minimum for  94  is  80\n",
            "Maximim for  94  is  97\n",
            "Average for  94  is  90.4\n",
            "Minimum for  94  is  80\n",
            "Maximim for  94  is  97\n",
            "Average for  94  is  90.4\n",
            "Minimum for  94  is  80\n",
            "Maximim for  94  is  97\n",
            "Average for  94  is  90.4\n",
            "Minimum for  94  is  80\n",
            "Maximim for  94  is  97\n",
            "Average for  94  is  90.4\n",
            "Minimum for  94  is  80\n",
            "Maximim for  94  is  97\n",
            "Average for  94  is  90.4\n",
            "Minimum for  94  is  80\n",
            "Maximim for  94  is  97\n",
            "Average for  94  is  90.4\n",
            "Minimum for  94  is  80\n",
            "Maximim for  94  is  97\n",
            "Average for  94  is  90.4\n",
            "Minimum for  94  is  80\n",
            "Maximim for  94  is  97\n",
            "Average for  94  is  90.4\n",
            "Minimum for  94  is  80\n",
            "Maximim for  94  is  97\n",
            "Average for  94  is  90.4\n",
            "Minimum for  94  is  80\n",
            "Maximim for  94  is  97\n",
            "Average for  94  is  90.4\n",
            "Minimum for  94  is  80\n",
            "Maximim for  94  is  97\n",
            "Average for  94  is  90.4\n",
            "Minimum for  94  is  80\n",
            "Maximim for  94  is  97\n",
            "Average for  94  is  90.4\n",
            "Minimum for  94  is  80\n",
            "Maximim for  94  is  97\n",
            "Average for  94  is  90.4\n",
            "Minimum for  94  is  80\n",
            "Maximim for  94  is  97\n",
            "************************************************** \n",
            "\n",
            "\n",
            "Average for all students is  90.40000000000002\n",
            "Finished.\n",
            "\n",
            "\n"
          ]
        }
      ]
    },
    {
      "cell_type": "code",
      "source": [
        "print('sample branch change')"
      ],
      "metadata": {
        "id": "r24uYH_gDfdX"
      },
      "execution_count": null,
      "outputs": []
    }
  ]
}